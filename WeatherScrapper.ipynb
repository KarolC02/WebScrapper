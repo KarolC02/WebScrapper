{
 "cells": [
  {
   "cell_type": "code",
   "execution_count": 1,
   "metadata": {},
   "outputs": [
    {
     "name": "stderr",
     "output_type": "stream",
     "text": [
      "/Users/karolcichor/Desktop/WebScrapper/.venv/lib/python3.9/site-packages/urllib3/__init__.py:35: NotOpenSSLWarning: urllib3 v2 only supports OpenSSL 1.1.1+, currently the 'ssl' module is compiled with 'LibreSSL 2.8.3'. See: https://github.com/urllib3/urllib3/issues/3020\n",
      "  warnings.warn(\n"
     ]
    }
   ],
   "source": [
    "import requests\n",
    "from bs4 import BeautifulSoup\n",
    "import csv\n",
    "from os import sys\n",
    "from selenium import webdriver\n",
    "import re\n",
    "from datetime import date, timedelta\n",
    "import time\n",
    "from selenium.webdriver.support.ui import WebDriverWait\n",
    "from selenium.webdriver.support import expected_conditions as EC\n",
    "from selenium.webdriver.common.by import By\n",
    "import os\n",
    "from dateutil.relativedelta import relativedelta"
   ]
  },
  {
   "cell_type": "code",
   "execution_count": 5,
   "metadata": {},
   "outputs": [],
   "source": [
    "station_code_dic = dict()\n",
    "station_code_dic[\"TaiPei\"] = \"RCSS\"\n",
    "station_code_dic[\"ShenZhen\"] = \"ZGSZ\"\n",
    "station_code_dic[\"Teheran\"] = \"OIII\"\n",
    "station_code_dic[\"HangZhou\"] = \"ZSHC\"\n",
    "station_code_dic[\"BeiJing\"] = \"ZBAA\""
   ]
  },
  {
   "cell_type": "code",
   "execution_count": 186,
   "metadata": {},
   "outputs": [],
   "source": [
    "def get_max_temp(city_name : str, _date : date, file_name : str,  station_code_dic : dict = station_code_dic) -> int:\n",
    "\n",
    "    code = station_code_dic[city_name]\n",
    "\n",
    "    url = f\"https://www.wunderground.com/history/monthly/{code}/date/{_date.year}-{_date.month}-{_date.day}\"\n",
    "    options = webdriver.ChromeOptions()\n",
    "    options.add_argument('--headless')  \n",
    "    driver = webdriver.Chrome(options=options)\n",
    "    driver.get(url)\n",
    "\n",
    "    try:\n",
    "        driver.get(url)\n",
    "        WebDriverWait(driver, 10).until(EC.presence_of_element_located((By.CLASS_NAME, \"observation-table\")))\n",
    "        html = driver.page_source\n",
    "        soup = BeautifulSoup(html, 'html.parser')\n",
    "        table = soup.find_all('div', class_='observation-table')\n",
    "    finally:\n",
    "        driver.quit()\n",
    "    \n",
    "    vals = []\n",
    "    if table:\n",
    "        whole_table = table[0].find(\"table\")\n",
    "        relevant_table = whole_table.find_all(\"table\")[1]\n",
    "        n = len(relevant_table)\n",
    "        for id, row in enumerate(relevant_table):\n",
    "            if id == 0 or id == n - 1:\n",
    "                continue\n",
    "            try:\n",
    "                cols = row.find_all(\"td\")\n",
    "            except:\n",
    "                print(\"Error finding td\")\n",
    "            match = re.search(r'<td[^>]*>\\s*(\\d+)\\s*</td>', str(cols[0]))\n",
    "            if match:\n",
    "                number = int(match.group(1))\n",
    "                print(number)\n",
    "                vals.append(number)\n",
    "\n",
    "    if not vals:\n",
    "        raise ValueError(f\"No temperature data found for {city_name} on {_date}\")\n",
    "    else:\n",
    "        with open(file_name, \"a\", newline='') as f:\n",
    "            writer = csv.writer(f)\n",
    "\n",
    "            for i, value in enumerate(vals, start=1):\n",
    "                full_date = date(_date.year, _date.month, i)\n",
    "                writer.writerow([full_date.isoformat(), value])"
   ]
  },
  {
   "cell_type": "code",
   "execution_count": 187,
   "metadata": {},
   "outputs": [],
   "source": [
    "def fill_csv_with_weather_data(station_code_dic : dict = station_code_dic, specific_cities : list[str] = station_code_dic.keys(), limited_days = False, days_to_cover : int = -1) -> None:\n",
    "    for city in specific_cities:\n",
    "        start_date = date(2005,1,1)\n",
    "        end_date = date(2025,3,1)\n",
    "        os.makedirs(\"output\", exist_ok=True)\n",
    "        file_name = f\"output/{city}_weather_{start_date}_to_{end_date}.csv\"\n",
    "        \n",
    "        current_date = start_date\n",
    "\n",
    "        with open(file_name, 'w', newline='') as f:\n",
    "            writer = csv.writer(f)\n",
    "            writer.writerow([\"Date\", \"Max Temperature\"])\n",
    "\n",
    "        while current_date <= end_date:\n",
    "            try:\n",
    "                get_max_temp(city, current_date, file_name)\n",
    "            except Exception as e:\n",
    "                print(f\"Error on {city} - {current_date}: {e}\")\n",
    "            \n",
    "            current_date += relativedelta(months=1)\n",
    "                "
   ]
  },
  {
   "cell_type": "code",
   "execution_count": null,
   "metadata": {},
   "outputs": [
    {
     "name": "stdout",
     "output_type": "stream",
     "text": [
      "50\n",
      "61\n",
      "72\n",
      "63\n",
      "64\n",
      "66\n",
      "66\n",
      "63\n",
      "59\n",
      "63\n",
      "66\n",
      "64\n",
      "61\n",
      "59\n",
      "55\n",
      "55\n",
      "63\n",
      "66\n",
      "64\n",
      "63\n",
      "64\n",
      "73\n",
      "64\n",
      "77\n",
      "77\n",
      "64\n",
      "70\n",
      "64\n",
      "68\n",
      "64\n",
      "55\n",
      "55\n",
      "52\n",
      "61\n",
      "64\n",
      "73\n",
      "73\n",
      "77\n",
      "72\n",
      "79\n",
      "64\n",
      "63\n",
      "64\n",
      "64\n",
      "79\n",
      "84\n",
      "84\n",
      "72\n",
      "63\n",
      "54\n",
      "48\n",
      "55\n",
      "61\n",
      "73\n",
      "77\n",
      "64\n",
      "61\n",
      "64\n",
      "59\n"
     ]
    }
   ],
   "source": [
    "start = time.time()\n",
    "fill_csv_with_weather_data(limited_days=True, specific_cities = [\"TaiPei\"])\n",
    "end = time.time()\n",
    "elapsed = end - start"
   ]
  },
  {
   "cell_type": "markdown",
   "metadata": {},
   "source": []
  }
 ],
 "metadata": {
  "kernelspec": {
   "display_name": ".venv",
   "language": "python",
   "name": "python3"
  },
  "language_info": {
   "codemirror_mode": {
    "name": "ipython",
    "version": 3
   },
   "file_extension": ".py",
   "mimetype": "text/x-python",
   "name": "python",
   "nbconvert_exporter": "python",
   "pygments_lexer": "ipython3",
   "version": "3.9.6"
  }
 },
 "nbformat": 4,
 "nbformat_minor": 2
}
